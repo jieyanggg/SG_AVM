{
 "cells": [
  {
   "cell_type": "markdown",
   "metadata": {},
   "source": [
    "# Project on commercial property automated valuation"
   ]
  },
  {
   "cell_type": "markdown",
   "metadata": {},
   "source": [
    "## Part 1: Libraries, reading and cleaning data"
   ]
  },
  {
   "cell_type": "code",
   "execution_count": 1,
   "metadata": {},
   "outputs": [],
   "source": [
    "import pandas as pd\n",
    "import numpy as np\n",
    "import matplotlib.pyplot as plt\n",
    "import statsmodels.formula.api as smf\n",
    "import seaborn as sns"
   ]
  },
  {
   "cell_type": "markdown",
   "metadata": {},
   "source": [
    "### Commercial Property data"
   ]
  },
  {
   "cell_type": "code",
   "execution_count": 2,
   "metadata": {},
   "outputs": [],
   "source": [
    "df = pd.read_csv('data/combined_all.csv', low_memory = False)\n",
    "df = df.rename (columns = {'Transacted Price ($)': 'Transaction_Price',\n",
    "                           'Sale Date': 'Sale_date',\n",
    "                           'Unit Price ($ PSM)': 'PSM',\n",
    "                          'Area (SQM)': 'Area_sqm',\n",
    "                           'Property Type': 'Property_type',                        \n",
    "                          'Type of Sale': 'Type_of_sale',\n",
    "                           'Planning Area': 'Planning_area',\n",
    "                           'Type of Area': 'Type_of_area',\n",
    "                           'Planning Region' : 'Planning_region',\n",
    "                           'Postal District': \"Postal_district\",\n",
    "                           'Postal Sector': 'Postal_sector'\n",
    "                          })\n",
    "\n",
    "df = df.astype({\"Year\": int})\n",
    "df = df.astype({\"Planning_area_population\": float})\n",
    "df = df.astype({\"Planning_area_size\": float})"
   ]
  },
  {
   "cell_type": "code",
   "execution_count": 3,
   "metadata": {},
   "outputs": [],
   "source": [
    "df.head()\n",
    "df = df[[\"Project Name\",\"Sale_date\",\"Area_sqm\",\"Property_type\",\"Type_of_sale\",\"Tenure_type\",\"Type_of_area\",\"Postal_sector\",'Planning_area',\"PPI\",\"Year\",\"Quarter\",\"Median_resi_psf\",\"Age_years\",\"Planning_area_size\",\"Planning_area_population\",\"Planning_area_density\",\"Transaction_Price\"]]\n",
    "df = df.dropna(subset=['PPI'])\n",
    "df = df.reset_index(drop=True)"
   ]
  },
  {
   "cell_type": "markdown",
   "metadata": {},
   "source": [
    "## Part 2: Running the predictive regression"
   ]
  },
  {
   "cell_type": "markdown",
   "metadata": {},
   "source": [
    "### Initial regression for all 7 property types"
   ]
  },
  {
   "cell_type": "code",
   "execution_count": 4,
   "metadata": {},
   "outputs": [
    {
     "data": {
      "text/html": [
       "<table class=\"simpletable\">\n",
       "<caption>OLS Regression Results</caption>\n",
       "<tr>\n",
       "  <th>Dep. Variable:</th>    <td>np.log(Transaction_Price)</td> <th>  R-squared:         </th> <td>   0.838</td> \n",
       "</tr>\n",
       "<tr>\n",
       "  <th>Model:</th>                       <td>OLS</td>            <th>  Adj. R-squared:    </th> <td>   0.838</td> \n",
       "</tr>\n",
       "<tr>\n",
       "  <th>Method:</th>                 <td>Least Squares</td>       <th>  F-statistic:       </th> <td>   2486.</td> \n",
       "</tr>\n",
       "<tr>\n",
       "  <th>Date:</th>                 <td>Sun, 17 Apr 2022</td>      <th>  Prob (F-statistic):</th>  <td>  0.00</td>  \n",
       "</tr>\n",
       "<tr>\n",
       "  <th>Time:</th>                     <td>05:45:59</td>          <th>  Log-Likelihood:    </th> <td> -30551.</td> \n",
       "</tr>\n",
       "<tr>\n",
       "  <th>No. Observations:</th>          <td> 63146</td>           <th>  AIC:               </th> <td>6.137e+04</td>\n",
       "</tr>\n",
       "<tr>\n",
       "  <th>Df Residuals:</th>              <td> 63014</td>           <th>  BIC:               </th> <td>6.256e+04</td>\n",
       "</tr>\n",
       "<tr>\n",
       "  <th>Df Model:</th>                  <td>   131</td>           <th>                     </th>     <td> </td>    \n",
       "</tr>\n",
       "<tr>\n",
       "  <th>Covariance Type:</th>          <td>nonrobust</td>         <th>                     </th>     <td> </td>    \n",
       "</tr>\n",
       "</table>\n",
       "<table class=\"simpletable\">\n",
       "<tr>\n",
       "                      <td></td>                         <th>coef</th>     <th>std err</th>      <th>t</th>      <th>P>|t|</th>  <th>[0.025</th>    <th>0.975]</th>  \n",
       "</tr>\n",
       "<tr>\n",
       "  <th>Intercept</th>                                 <td>  -40.1167</td> <td>    0.699</td> <td>  -57.415</td> <td> 0.000</td> <td>  -41.486</td> <td>  -38.747</td>\n",
       "</tr>\n",
       "<tr>\n",
       "  <th>C(Type_of_sale)[T.Resale]</th>                 <td>   -0.2680</td> <td>    0.004</td> <td>  -67.738</td> <td> 0.000</td> <td>   -0.276</td> <td>   -0.260</td>\n",
       "</tr>\n",
       "<tr>\n",
       "  <th>C(Type_of_sale)[T.Sub Sale]</th>               <td>    0.0029</td> <td>    0.010</td> <td>    0.293</td> <td> 0.769</td> <td>   -0.016</td> <td>    0.022</td>\n",
       "</tr>\n",
       "<tr>\n",
       "  <th>C(Property_type)[T.Multiple-user Factory]</th> <td>   -0.5179</td> <td>    0.075</td> <td>   -6.869</td> <td> 0.000</td> <td>   -0.666</td> <td>   -0.370</td>\n",
       "</tr>\n",
       "<tr>\n",
       "  <th>C(Property_type)[T.Office]</th>                <td>   -0.0739</td> <td>    0.076</td> <td>   -0.974</td> <td> 0.330</td> <td>   -0.223</td> <td>    0.075</td>\n",
       "</tr>\n",
       "<tr>\n",
       "  <th>C(Property_type)[T.Retail]</th>                <td>    0.4500</td> <td>    0.076</td> <td>    5.908</td> <td> 0.000</td> <td>    0.301</td> <td>    0.599</td>\n",
       "</tr>\n",
       "<tr>\n",
       "  <th>C(Property_type)[T.Shop House]</th>            <td>   -0.3356</td> <td>    0.075</td> <td>   -4.489</td> <td> 0.000</td> <td>   -0.482</td> <td>   -0.189</td>\n",
       "</tr>\n",
       "<tr>\n",
       "  <th>C(Property_type)[T.Single-user Factory]</th>   <td>   -1.0333</td> <td>    0.074</td> <td>  -13.977</td> <td> 0.000</td> <td>   -1.178</td> <td>   -0.888</td>\n",
       "</tr>\n",
       "<tr>\n",
       "  <th>C(Property_type)[T.Warehouse]</th>             <td>   -0.3622</td> <td>    0.076</td> <td>   -4.793</td> <td> 0.000</td> <td>   -0.510</td> <td>   -0.214</td>\n",
       "</tr>\n",
       "<tr>\n",
       "  <th>C(Tenure_type)[T.Leasehold]</th>               <td>   -0.4068</td> <td>    0.006</td> <td>  -71.737</td> <td> 0.000</td> <td>   -0.418</td> <td>   -0.396</td>\n",
       "</tr>\n",
       "<tr>\n",
       "  <th>C(Type_of_area)[T.Land]</th>                   <td>    0.4303</td> <td>    0.087</td> <td>    4.968</td> <td> 0.000</td> <td>    0.261</td> <td>    0.600</td>\n",
       "</tr>\n",
       "<tr>\n",
       "  <th>C(Type_of_area)[T.Strata]</th>                 <td>   -0.2997</td> <td>    0.087</td> <td>   -3.462</td> <td> 0.001</td> <td>   -0.469</td> <td>   -0.130</td>\n",
       "</tr>\n",
       "<tr>\n",
       "  <th>C(Postal_sector)[T.3]</th>                     <td>   -0.5906</td> <td>    0.228</td> <td>   -2.589</td> <td> 0.010</td> <td>   -1.038</td> <td>   -0.143</td>\n",
       "</tr>\n",
       "<tr>\n",
       "  <th>C(Postal_sector)[T.4]</th>                     <td>   -0.8081</td> <td>    0.228</td> <td>   -3.544</td> <td> 0.000</td> <td>   -1.255</td> <td>   -0.361</td>\n",
       "</tr>\n",
       "<tr>\n",
       "  <th>C(Postal_sector)[T.5]</th>                     <td>   -1.4811</td> <td>    0.228</td> <td>   -6.493</td> <td> 0.000</td> <td>   -1.928</td> <td>   -1.034</td>\n",
       "</tr>\n",
       "<tr>\n",
       "  <th>C(Postal_sector)[T.6]</th>                     <td>   -1.2105</td> <td>    0.227</td> <td>   -5.324</td> <td> 0.000</td> <td>   -1.656</td> <td>   -0.765</td>\n",
       "</tr>\n",
       "<tr>\n",
       "  <th>C(Postal_sector)[T.7]</th>                     <td>   -1.1860</td> <td>    0.227</td> <td>   -5.217</td> <td> 0.000</td> <td>   -1.632</td> <td>   -0.740</td>\n",
       "</tr>\n",
       "<tr>\n",
       "  <th>C(Postal_sector)[T.8]</th>                     <td>   -1.1991</td> <td>    0.228</td> <td>   -5.249</td> <td> 0.000</td> <td>   -1.647</td> <td>   -0.751</td>\n",
       "</tr>\n",
       "<tr>\n",
       "  <th>C(Postal_sector)[T.9]</th>                     <td>   -2.3480</td> <td>    0.244</td> <td>   -9.625</td> <td> 0.000</td> <td>   -2.826</td> <td>   -1.870</td>\n",
       "</tr>\n",
       "<tr>\n",
       "  <th>C(Postal_sector)[T.10]</th>                    <td>   -1.8497</td> <td>    0.261</td> <td>   -7.086</td> <td> 0.000</td> <td>   -2.361</td> <td>   -1.338</td>\n",
       "</tr>\n",
       "<tr>\n",
       "  <th>C(Postal_sector)[T.11]</th>                    <td>   -1.7248</td> <td>    0.242</td> <td>   -7.131</td> <td> 0.000</td> <td>   -2.199</td> <td>   -1.251</td>\n",
       "</tr>\n",
       "<tr>\n",
       "  <th>C(Postal_sector)[T.12]</th>                    <td>   -1.4866</td> <td>    0.265</td> <td>   -5.603</td> <td> 0.000</td> <td>   -2.007</td> <td>   -0.967</td>\n",
       "</tr>\n",
       "<tr>\n",
       "  <th>C(Postal_sector)[T.13]</th>                    <td>   -1.7138</td> <td>    0.254</td> <td>   -6.743</td> <td> 0.000</td> <td>   -2.212</td> <td>   -1.216</td>\n",
       "</tr>\n",
       "<tr>\n",
       "  <th>C(Postal_sector)[T.14]</th>                    <td>   -1.6449</td> <td>    0.242</td> <td>   -6.798</td> <td> 0.000</td> <td>   -2.119</td> <td>   -1.171</td>\n",
       "</tr>\n",
       "<tr>\n",
       "  <th>C(Postal_sector)[T.15]</th>                    <td>   -1.5941</td> <td>    0.230</td> <td>   -6.934</td> <td> 0.000</td> <td>   -2.045</td> <td>   -1.143</td>\n",
       "</tr>\n",
       "<tr>\n",
       "  <th>C(Postal_sector)[T.16]</th>                    <td>   -1.7231</td> <td>    0.229</td> <td>   -7.513</td> <td> 0.000</td> <td>   -2.173</td> <td>   -1.274</td>\n",
       "</tr>\n",
       "<tr>\n",
       "  <th>C(Postal_sector)[T.17]</th>                    <td>   -1.6364</td> <td>    0.227</td> <td>   -7.197</td> <td> 0.000</td> <td>   -2.082</td> <td>   -1.191</td>\n",
       "</tr>\n",
       "<tr>\n",
       "  <th>C(Postal_sector)[T.18]</th>                    <td>   -1.5537</td> <td>    0.228</td> <td>   -6.802</td> <td> 0.000</td> <td>   -2.001</td> <td>   -1.106</td>\n",
       "</tr>\n",
       "<tr>\n",
       "  <th>C(Postal_sector)[T.19]</th>                    <td>   -1.7165</td> <td>    0.229</td> <td>   -7.495</td> <td> 0.000</td> <td>   -2.165</td> <td>   -1.268</td>\n",
       "</tr>\n",
       "<tr>\n",
       "  <th>C(Postal_sector)[T.20]</th>                    <td>   -1.8077</td> <td>    0.229</td> <td>   -7.891</td> <td> 0.000</td> <td>   -2.257</td> <td>   -1.359</td>\n",
       "</tr>\n",
       "<tr>\n",
       "  <th>C(Postal_sector)[T.21]</th>                    <td>   -1.6404</td> <td>    0.230</td> <td>   -7.146</td> <td> 0.000</td> <td>   -2.090</td> <td>   -1.190</td>\n",
       "</tr>\n",
       "<tr>\n",
       "  <th>C(Postal_sector)[T.22]</th>                    <td>   -2.0551</td> <td>    0.230</td> <td>   -8.919</td> <td> 0.000</td> <td>   -2.507</td> <td>   -1.603</td>\n",
       "</tr>\n",
       "<tr>\n",
       "  <th>C(Postal_sector)[T.23]</th>                    <td>   -2.1050</td> <td>    0.231</td> <td>   -9.117</td> <td> 0.000</td> <td>   -2.558</td> <td>   -1.652</td>\n",
       "</tr>\n",
       "<tr>\n",
       "  <th>C(Postal_sector)[T.24]</th>                    <td>   -2.3647</td> <td>    0.235</td> <td>  -10.074</td> <td> 0.000</td> <td>   -2.825</td> <td>   -1.905</td>\n",
       "</tr>\n",
       "<tr>\n",
       "  <th>C(Postal_sector)[T.25]</th>                    <td>   -2.2805</td> <td>    0.272</td> <td>   -8.394</td> <td> 0.000</td> <td>   -2.813</td> <td>   -1.748</td>\n",
       "</tr>\n",
       "<tr>\n",
       "  <th>C(Postal_sector)[T.26]</th>                    <td>   -2.3529</td> <td>    0.267</td> <td>   -8.802</td> <td> 0.000</td> <td>   -2.877</td> <td>   -1.829</td>\n",
       "</tr>\n",
       "<tr>\n",
       "  <th>C(Postal_sector)[T.27]</th>                    <td>   -1.8647</td> <td>    0.264</td> <td>   -7.076</td> <td> 0.000</td> <td>   -2.381</td> <td>   -1.348</td>\n",
       "</tr>\n",
       "<tr>\n",
       "  <th>C(Postal_sector)[T.28]</th>                    <td>   -2.1036</td> <td>    0.275</td> <td>   -7.645</td> <td> 0.000</td> <td>   -2.643</td> <td>   -1.564</td>\n",
       "</tr>\n",
       "<tr>\n",
       "  <th>C(Postal_sector)[T.29]</th>                    <td>   -1.9481</td> <td>    0.326</td> <td>   -5.984</td> <td> 0.000</td> <td>   -2.586</td> <td>   -1.310</td>\n",
       "</tr>\n",
       "<tr>\n",
       "  <th>C(Postal_sector)[T.30]</th>                    <td>   -1.7363</td> <td>    0.236</td> <td>   -7.355</td> <td> 0.000</td> <td>   -2.199</td> <td>   -1.274</td>\n",
       "</tr>\n",
       "<tr>\n",
       "  <th>C(Postal_sector)[T.31]</th>                    <td>   -1.9240</td> <td>    0.252</td> <td>   -7.642</td> <td> 0.000</td> <td>   -2.417</td> <td>   -1.431</td>\n",
       "</tr>\n",
       "<tr>\n",
       "  <th>C(Postal_sector)[T.32]</th>                    <td>   -2.0970</td> <td>    0.233</td> <td>   -8.995</td> <td> 0.000</td> <td>   -2.554</td> <td>   -1.640</td>\n",
       "</tr>\n",
       "<tr>\n",
       "  <th>C(Postal_sector)[T.33]</th>                    <td>   -1.4076</td> <td>    0.230</td> <td>   -6.130</td> <td> 0.000</td> <td>   -1.858</td> <td>   -0.958</td>\n",
       "</tr>\n",
       "<tr>\n",
       "  <th>C(Postal_sector)[T.34]</th>                    <td>   -1.6162</td> <td>    0.241</td> <td>   -6.704</td> <td> 0.000</td> <td>   -2.089</td> <td>   -1.144</td>\n",
       "</tr>\n",
       "<tr>\n",
       "  <th>C(Postal_sector)[T.35]</th>                    <td>   -1.7597</td> <td>    0.277</td> <td>   -6.352</td> <td> 0.000</td> <td>   -2.303</td> <td>   -1.217</td>\n",
       "</tr>\n",
       "<tr>\n",
       "  <th>C(Postal_sector)[T.36]</th>                    <td>   -1.6980</td> <td>    0.245</td> <td>   -6.944</td> <td> 0.000</td> <td>   -2.177</td> <td>   -1.219</td>\n",
       "</tr>\n",
       "<tr>\n",
       "  <th>C(Postal_sector)[T.37]</th>                    <td>   -0.6560</td> <td>    0.368</td> <td>   -1.784</td> <td> 0.075</td> <td>   -1.377</td> <td>    0.065</td>\n",
       "</tr>\n",
       "<tr>\n",
       "  <th>C(Postal_sector)[T.38]</th>                    <td>   -1.6347</td> <td>    0.241</td> <td>   -6.787</td> <td> 0.000</td> <td>   -2.107</td> <td>   -1.163</td>\n",
       "</tr>\n",
       "<tr>\n",
       "  <th>C(Postal_sector)[T.39]</th>                    <td>   -1.9322</td> <td>    0.244</td> <td>   -7.915</td> <td> 0.000</td> <td>   -2.411</td> <td>   -1.454</td>\n",
       "</tr>\n",
       "<tr>\n",
       "  <th>C(Postal_sector)[T.40]</th>                    <td>   -1.4826</td> <td>    0.241</td> <td>   -6.155</td> <td> 0.000</td> <td>   -1.955</td> <td>   -1.011</td>\n",
       "</tr>\n",
       "<tr>\n",
       "  <th>C(Postal_sector)[T.41]</th>                    <td>   -1.8031</td> <td>    0.241</td> <td>   -7.472</td> <td> 0.000</td> <td>   -2.276</td> <td>   -1.330</td>\n",
       "</tr>\n",
       "<tr>\n",
       "  <th>C(Postal_sector)[T.42]</th>                    <td>   -1.9017</td> <td>    0.241</td> <td>   -7.880</td> <td> 0.000</td> <td>   -2.375</td> <td>   -1.429</td>\n",
       "</tr>\n",
       "<tr>\n",
       "  <th>C(Postal_sector)[T.43]</th>                    <td>   -1.9359</td> <td>    0.242</td> <td>   -7.990</td> <td> 0.000</td> <td>   -2.411</td> <td>   -1.461</td>\n",
       "</tr>\n",
       "<tr>\n",
       "  <th>C(Postal_sector)[T.44]</th>                    <td>   -1.4597</td> <td>    0.244</td> <td>   -5.993</td> <td> 0.000</td> <td>   -1.937</td> <td>   -0.982</td>\n",
       "</tr>\n",
       "<tr>\n",
       "  <th>C(Postal_sector)[T.45]</th>                    <td>   -1.7614</td> <td>    0.245</td> <td>   -7.184</td> <td> 0.000</td> <td>   -2.242</td> <td>   -1.281</td>\n",
       "</tr>\n",
       "<tr>\n",
       "  <th>C(Postal_sector)[T.46]</th>                    <td>   -1.9472</td> <td>    0.248</td> <td>   -7.851</td> <td> 0.000</td> <td>   -2.433</td> <td>   -1.461</td>\n",
       "</tr>\n",
       "<tr>\n",
       "  <th>C(Postal_sector)[T.47]</th>                    <td>   -2.0068</td> <td>    0.284</td> <td>   -7.079</td> <td> 0.000</td> <td>   -2.562</td> <td>   -1.451</td>\n",
       "</tr>\n",
       "<tr>\n",
       "  <th>C(Postal_sector)[T.48]</th>                    <td>   -1.6617</td> <td>    0.244</td> <td>   -6.804</td> <td> 0.000</td> <td>   -2.140</td> <td>   -1.183</td>\n",
       "</tr>\n",
       "<tr>\n",
       "  <th>C(Postal_sector)[T.49]</th>                    <td>   -0.6502</td> <td>    0.128</td> <td>   -5.076</td> <td> 0.000</td> <td>   -0.901</td> <td>   -0.399</td>\n",
       "</tr>\n",
       "<tr>\n",
       "  <th>C(Postal_sector)[T.50]</th>                    <td>   -1.7845</td> <td>    0.464</td> <td>   -3.847</td> <td> 0.000</td> <td>   -2.694</td> <td>   -0.875</td>\n",
       "</tr>\n",
       "<tr>\n",
       "  <th>C(Postal_sector)[T.51]</th>                    <td>   -1.4138</td> <td>    0.496</td> <td>   -2.853</td> <td> 0.004</td> <td>   -2.385</td> <td>   -0.442</td>\n",
       "</tr>\n",
       "<tr>\n",
       "  <th>C(Postal_sector)[T.52]</th>                    <td>   -1.6880</td> <td>    0.250</td> <td>   -6.751</td> <td> 0.000</td> <td>   -2.178</td> <td>   -1.198</td>\n",
       "</tr>\n",
       "<tr>\n",
       "  <th>C(Postal_sector)[T.53]</th>                    <td>   -1.6159</td> <td>    0.250</td> <td>   -6.467</td> <td> 0.000</td> <td>   -2.106</td> <td>   -1.126</td>\n",
       "</tr>\n",
       "<tr>\n",
       "  <th>C(Postal_sector)[T.54]</th>                    <td>   -1.8136</td> <td>    0.253</td> <td>   -7.165</td> <td> 0.000</td> <td>   -2.310</td> <td>   -1.317</td>\n",
       "</tr>\n",
       "<tr>\n",
       "  <th>C(Postal_sector)[T.55]</th>                    <td>   -1.5204</td> <td>    0.253</td> <td>   -6.013</td> <td> 0.000</td> <td>   -2.016</td> <td>   -1.025</td>\n",
       "</tr>\n",
       "<tr>\n",
       "  <th>C(Postal_sector)[T.56]</th>                    <td>   -1.5300</td> <td>    0.252</td> <td>   -6.065</td> <td> 0.000</td> <td>   -2.024</td> <td>   -1.036</td>\n",
       "</tr>\n",
       "<tr>\n",
       "  <th>C(Postal_sector)[T.57]</th>                    <td>   -1.6898</td> <td>    0.264</td> <td>   -6.397</td> <td> 0.000</td> <td>   -2.208</td> <td>   -1.172</td>\n",
       "</tr>\n",
       "<tr>\n",
       "  <th>C(Postal_sector)[T.58]</th>                    <td>   -2.4413</td> <td>    0.265</td> <td>   -9.221</td> <td> 0.000</td> <td>   -2.960</td> <td>   -1.922</td>\n",
       "</tr>\n",
       "<tr>\n",
       "  <th>C(Postal_sector)[T.59]</th>                    <td>   -2.2086</td> <td>    0.264</td> <td>   -8.355</td> <td> 0.000</td> <td>   -2.727</td> <td>   -1.690</td>\n",
       "</tr>\n",
       "<tr>\n",
       "  <th>C(Postal_sector)[T.60]</th>                    <td>   -1.6525</td> <td>    0.265</td> <td>   -6.226</td> <td> 0.000</td> <td>   -2.173</td> <td>   -1.132</td>\n",
       "</tr>\n",
       "<tr>\n",
       "  <th>C(Postal_sector)[T.61]</th>                    <td>   -2.3226</td> <td>    0.267</td> <td>   -8.687</td> <td> 0.000</td> <td>   -2.847</td> <td>   -1.799</td>\n",
       "</tr>\n",
       "<tr>\n",
       "  <th>C(Postal_sector)[T.62]</th>                    <td>   -2.2473</td> <td>    0.269</td> <td>   -8.364</td> <td> 0.000</td> <td>   -2.774</td> <td>   -1.721</td>\n",
       "</tr>\n",
       "<tr>\n",
       "  <th>C(Postal_sector)[T.63]</th>                    <td>   -2.1518</td> <td>    0.287</td> <td>   -7.489</td> <td> 0.000</td> <td>   -2.715</td> <td>   -1.589</td>\n",
       "</tr>\n",
       "<tr>\n",
       "  <th>C(Postal_sector)[T.64]</th>                    <td>   -0.9497</td> <td>    0.293</td> <td>   -3.237</td> <td> 0.001</td> <td>   -1.525</td> <td>   -0.375</td>\n",
       "</tr>\n",
       "<tr>\n",
       "  <th>C(Postal_sector)[T.65]</th>                    <td>   -0.6287</td> <td>    0.085</td> <td>   -7.391</td> <td> 0.000</td> <td>   -0.795</td> <td>   -0.462</td>\n",
       "</tr>\n",
       "<tr>\n",
       "  <th>C(Postal_sector)[T.66]</th>                    <td>   -0.4287</td> <td>    0.087</td> <td>   -4.955</td> <td> 0.000</td> <td>   -0.598</td> <td>   -0.259</td>\n",
       "</tr>\n",
       "<tr>\n",
       "  <th>C(Postal_sector)[T.67]</th>                    <td>   -2.3783</td> <td>    0.317</td> <td>   -7.503</td> <td> 0.000</td> <td>   -3.000</td> <td>   -1.757</td>\n",
       "</tr>\n",
       "<tr>\n",
       "  <th>C(Postal_sector)[T.68]</th>                    <td>   -1.4333</td> <td>    0.465</td> <td>   -3.082</td> <td> 0.002</td> <td>   -2.345</td> <td>   -0.522</td>\n",
       "</tr>\n",
       "<tr>\n",
       "  <th>C(Postal_sector)[T.69]</th>                    <td>   -4.3010</td> <td>    0.542</td> <td>   -7.939</td> <td> 0.000</td> <td>   -5.363</td> <td>   -3.239</td>\n",
       "</tr>\n",
       "<tr>\n",
       "  <th>C(Postal_sector)[T.71]</th>                    <td>   -2.5922</td> <td>    0.170</td> <td>  -15.247</td> <td> 0.000</td> <td>   -2.925</td> <td>   -2.259</td>\n",
       "</tr>\n",
       "<tr>\n",
       "  <th>C(Postal_sector)[T.72]</th>                    <td>   -1.1869</td> <td>    0.337</td> <td>   -3.522</td> <td> 0.000</td> <td>   -1.847</td> <td>   -0.526</td>\n",
       "</tr>\n",
       "<tr>\n",
       "  <th>C(Postal_sector)[T.73]</th>                    <td>   -1.4245</td> <td>    0.338</td> <td>   -4.217</td> <td> 0.000</td> <td>   -2.087</td> <td>   -0.763</td>\n",
       "</tr>\n",
       "<tr>\n",
       "  <th>C(Postal_sector)[T.75]</th>                    <td>   -1.3499</td> <td>    0.338</td> <td>   -3.995</td> <td> 0.000</td> <td>   -2.012</td> <td>   -0.688</td>\n",
       "</tr>\n",
       "<tr>\n",
       "  <th>C(Postal_sector)[T.76]</th>                    <td>   -1.9202</td> <td>    0.268</td> <td>   -7.157</td> <td> 0.000</td> <td>   -2.446</td> <td>   -1.394</td>\n",
       "</tr>\n",
       "<tr>\n",
       "  <th>C(Postal_sector)[T.77]</th>                    <td>   -1.7854</td> <td>    0.351</td> <td>   -5.082</td> <td> 0.000</td> <td>   -2.474</td> <td>   -1.097</td>\n",
       "</tr>\n",
       "<tr>\n",
       "  <th>C(Postal_sector)[T.78]</th>                    <td>   -1.5841</td> <td>    0.254</td> <td>   -6.240</td> <td> 0.000</td> <td>   -2.082</td> <td>   -1.087</td>\n",
       "</tr>\n",
       "<tr>\n",
       "  <th>C(Postal_sector)[T.79]</th>                    <td>   -2.6013</td> <td>    0.318</td> <td>   -8.190</td> <td> 0.000</td> <td>   -3.224</td> <td>   -1.979</td>\n",
       "</tr>\n",
       "<tr>\n",
       "  <th>C(Postal_sector)[T.80]</th>                    <td>   -2.0392</td> <td>    0.263</td> <td>   -7.755</td> <td> 0.000</td> <td>   -2.555</td> <td>   -1.524</td>\n",
       "</tr>\n",
       "<tr>\n",
       "  <th>C(Postal_sector)[T.81]</th>                    <td>   -0.4869</td> <td>    0.204</td> <td>   -2.387</td> <td> 0.017</td> <td>   -0.887</td> <td>   -0.087</td>\n",
       "</tr>\n",
       "<tr>\n",
       "  <th>C(Planning_area)[T.Bedok]</th>                 <td>    0.2903</td> <td>    0.098</td> <td>    2.976</td> <td> 0.003</td> <td>    0.099</td> <td>    0.482</td>\n",
       "</tr>\n",
       "<tr>\n",
       "  <th>C(Planning_area)[T.Bishan]</th>                <td>    0.2903</td> <td>    0.078</td> <td>    3.704</td> <td> 0.000</td> <td>    0.137</td> <td>    0.444</td>\n",
       "</tr>\n",
       "<tr>\n",
       "  <th>C(Planning_area)[T.Boon Lay]</th>              <td>   -0.0607</td> <td>    0.177</td> <td>   -0.343</td> <td> 0.731</td> <td>   -0.408</td> <td>    0.286</td>\n",
       "</tr>\n",
       "<tr>\n",
       "  <th>C(Planning_area)[T.Bukit Batok]</th>           <td>   -1.0575</td> <td>    0.169</td> <td>   -6.252</td> <td> 0.000</td> <td>   -1.389</td> <td>   -0.726</td>\n",
       "</tr>\n",
       "<tr>\n",
       "  <th>C(Planning_area)[T.Bukit Merah]</th>           <td>    0.4601</td> <td>    0.117</td> <td>    3.934</td> <td> 0.000</td> <td>    0.231</td> <td>    0.689</td>\n",
       "</tr>\n",
       "<tr>\n",
       "  <th>C(Planning_area)[T.Bukit Panjang]</th>         <td>    0.4937</td> <td>    0.222</td> <td>    2.227</td> <td> 0.026</td> <td>    0.059</td> <td>    0.928</td>\n",
       "</tr>\n",
       "<tr>\n",
       "  <th>C(Planning_area)[T.Bukit Timah]</th>           <td>    0.9472</td> <td>    0.170</td> <td>    5.588</td> <td> 0.000</td> <td>    0.615</td> <td>    1.279</td>\n",
       "</tr>\n",
       "<tr>\n",
       "  <th>C(Planning_area)[T.Changi]</th>                <td>   -1.1371</td> <td>    0.193</td> <td>   -5.894</td> <td> 0.000</td> <td>   -1.515</td> <td>   -0.759</td>\n",
       "</tr>\n",
       "<tr>\n",
       "  <th>C(Planning_area)[T.Choa Chu Kang]</th>         <td>    0.3918</td> <td>    0.307</td> <td>    1.278</td> <td> 0.201</td> <td>   -0.209</td> <td>    0.993</td>\n",
       "</tr>\n",
       "<tr>\n",
       "  <th>C(Planning_area)[T.Clementi]</th>              <td>    0.0817</td> <td>    0.172</td> <td>    0.476</td> <td> 0.634</td> <td>   -0.255</td> <td>    0.418</td>\n",
       "</tr>\n",
       "<tr>\n",
       "  <th>C(Planning_area)[T.Downtown Core]</th>         <td>    0.2499</td> <td>    0.112</td> <td>    2.233</td> <td> 0.026</td> <td>    0.031</td> <td>    0.469</td>\n",
       "</tr>\n",
       "<tr>\n",
       "  <th>C(Planning_area)[T.Geylang]</th>               <td>    0.1001</td> <td>    0.096</td> <td>    1.042</td> <td> 0.297</td> <td>   -0.088</td> <td>    0.288</td>\n",
       "</tr>\n",
       "<tr>\n",
       "  <th>C(Planning_area)[T.Hougang]</th>               <td>   -0.0155</td> <td>    0.058</td> <td>   -0.269</td> <td> 0.788</td> <td>   -0.128</td> <td>    0.097</td>\n",
       "</tr>\n",
       "<tr>\n",
       "  <th>C(Planning_area)[T.Jurong East]</th>           <td>    0.2425</td> <td>    0.173</td> <td>    1.403</td> <td> 0.161</td> <td>   -0.096</td> <td>    0.581</td>\n",
       "</tr>\n",
       "<tr>\n",
       "  <th>C(Planning_area)[T.Jurong West]</th>           <td>    0.3062</td> <td>    0.177</td> <td>    1.733</td> <td> 0.083</td> <td>   -0.040</td> <td>    0.653</td>\n",
       "</tr>\n",
       "<tr>\n",
       "  <th>C(Planning_area)[T.Kallang]</th>               <td>    0.1668</td> <td>    0.109</td> <td>    1.536</td> <td> 0.125</td> <td>   -0.046</td> <td>    0.380</td>\n",
       "</tr>\n",
       "<tr>\n",
       "  <th>C(Planning_area)[T.Lim Chu Kang]</th>          <td>   -2.5922</td> <td>    0.170</td> <td>  -15.247</td> <td> 0.000</td> <td>   -2.925</td> <td>   -2.259</td>\n",
       "</tr>\n",
       "<tr>\n",
       "  <th>C(Planning_area)[T.Mandai]</th>                <td>   -0.4320</td> <td>    0.276</td> <td>   -1.563</td> <td> 0.118</td> <td>   -0.974</td> <td>    0.110</td>\n",
       "</tr>\n",
       "<tr>\n",
       "  <th>C(Planning_area)[T.Marine Parade]</th>         <td>    0.2889</td> <td>    0.099</td> <td>    2.930</td> <td> 0.003</td> <td>    0.096</td> <td>    0.482</td>\n",
       "</tr>\n",
       "<tr>\n",
       "  <th>C(Planning_area)[T.Museum]</th>                <td>    0.6716</td> <td>    0.120</td> <td>    5.610</td> <td> 0.000</td> <td>    0.437</td> <td>    0.906</td>\n",
       "</tr>\n",
       "<tr>\n",
       "  <th>C(Planning_area)[T.Newton]</th>                <td>    0.8826</td> <td>    0.175</td> <td>    5.032</td> <td> 0.000</td> <td>    0.539</td> <td>    1.226</td>\n",
       "</tr>\n",
       "<tr>\n",
       "  <th>C(Planning_area)[T.Novena]</th>                <td>    0.6612</td> <td>    0.118</td> <td>    5.605</td> <td> 0.000</td> <td>    0.430</td> <td>    0.892</td>\n",
       "</tr>\n",
       "<tr>\n",
       "  <th>C(Planning_area)[T.Orchard]</th>               <td>    1.0127</td> <td>    0.116</td> <td>    8.754</td> <td> 0.000</td> <td>    0.786</td> <td>    1.239</td>\n",
       "</tr>\n",
       "<tr>\n",
       "  <th>C(Planning_area)[T.Outram]</th>                <td>    0.3283</td> <td>    0.113</td> <td>    2.894</td> <td> 0.004</td> <td>    0.106</td> <td>    0.551</td>\n",
       "</tr>\n",
       "<tr>\n",
       "  <th>C(Planning_area)[T.Pasir Ris]</th>             <td>   -0.2920</td> <td>    0.407</td> <td>   -0.717</td> <td> 0.473</td> <td>   -1.090</td> <td>    0.506</td>\n",
       "</tr>\n",
       "<tr>\n",
       "  <th>C(Planning_area)[T.Paya Lebar]</th>            <td>   -0.1639</td> <td>    0.128</td> <td>   -1.276</td> <td> 0.202</td> <td>   -0.416</td> <td>    0.088</td>\n",
       "</tr>\n",
       "<tr>\n",
       "  <th>C(Planning_area)[T.Pioneer]</th>               <td>   -0.1591</td> <td>    0.178</td> <td>   -0.895</td> <td> 0.371</td> <td>   -0.508</td> <td>    0.189</td>\n",
       "</tr>\n",
       "<tr>\n",
       "  <th>C(Planning_area)[T.Queenstown]</th>            <td>    0.4527</td> <td>    0.136</td> <td>    3.328</td> <td> 0.001</td> <td>    0.186</td> <td>    0.719</td>\n",
       "</tr>\n",
       "<tr>\n",
       "  <th>C(Planning_area)[T.River Valley]</th>          <td>    0.8959</td> <td>    0.124</td> <td>    7.219</td> <td> 0.000</td> <td>    0.653</td> <td>    1.139</td>\n",
       "</tr>\n",
       "<tr>\n",
       "  <th>C(Planning_area)[T.Rochor]</th>                <td>    0.3099</td> <td>    0.109</td> <td>    2.835</td> <td> 0.005</td> <td>    0.096</td> <td>    0.524</td>\n",
       "</tr>\n",
       "<tr>\n",
       "  <th>C(Planning_area)[T.Seletar]</th>               <td>    0.4136</td> <td>    0.304</td> <td>    1.358</td> <td> 0.174</td> <td>   -0.183</td> <td>    1.010</td>\n",
       "</tr>\n",
       "<tr>\n",
       "  <th>C(Planning_area)[T.Sembawang]</th>             <td>   -0.6186</td> <td>    0.257</td> <td>   -2.410</td> <td> 0.016</td> <td>   -1.122</td> <td>   -0.116</td>\n",
       "</tr>\n",
       "<tr>\n",
       "  <th>C(Planning_area)[T.Sengkang]</th>              <td>    0.9279</td> <td>    0.188</td> <td>    4.938</td> <td> 0.000</td> <td>    0.560</td> <td>    1.296</td>\n",
       "</tr>\n",
       "<tr>\n",
       "  <th>C(Planning_area)[T.Serangoon]</th>             <td>   -0.0773</td> <td>    0.027</td> <td>   -2.889</td> <td> 0.004</td> <td>   -0.130</td> <td>   -0.025</td>\n",
       "</tr>\n",
       "<tr>\n",
       "  <th>C(Planning_area)[T.Singapore River]</th>       <td>    0.6014</td> <td>    0.114</td> <td>    5.261</td> <td> 0.000</td> <td>    0.377</td> <td>    0.825</td>\n",
       "</tr>\n",
       "<tr>\n",
       "  <th>C(Planning_area)[T.Sungei Kadut]</th>          <td>   -0.7309</td> <td>    0.256</td> <td>   -2.857</td> <td> 0.004</td> <td>   -1.232</td> <td>   -0.229</td>\n",
       "</tr>\n",
       "<tr>\n",
       "  <th>C(Planning_area)[T.Tampines]</th>              <td>   -0.0146</td> <td>    0.109</td> <td>   -0.135</td> <td> 0.893</td> <td>   -0.227</td> <td>    0.198</td>\n",
       "</tr>\n",
       "<tr>\n",
       "  <th>C(Planning_area)[T.Tanglin]</th>               <td>    0.9001</td> <td>    0.141</td> <td>    6.362</td> <td> 0.000</td> <td>    0.623</td> <td>    1.177</td>\n",
       "</tr>\n",
       "<tr>\n",
       "  <th>C(Planning_area)[T.Toa Payoh]</th>             <td>    0.3531</td> <td>    0.088</td> <td>    4.001</td> <td> 0.000</td> <td>    0.180</td> <td>    0.526</td>\n",
       "</tr>\n",
       "<tr>\n",
       "  <th>C(Planning_area)[T.Tuas]</th>                  <td>    0.1514</td> <td>    0.204</td> <td>    0.741</td> <td> 0.459</td> <td>   -0.249</td> <td>    0.552</td>\n",
       "</tr>\n",
       "<tr>\n",
       "  <th>C(Planning_area)[T.Western Islands]</th>       <td>    1.8848</td> <td>    0.330</td> <td>    5.716</td> <td> 0.000</td> <td>    1.238</td> <td>    2.531</td>\n",
       "</tr>\n",
       "<tr>\n",
       "  <th>C(Planning_area)[T.Woodlands]</th>             <td>   -0.3720</td> <td>    0.257</td> <td>   -1.449</td> <td> 0.147</td> <td>   -0.875</td> <td>    0.131</td>\n",
       "</tr>\n",
       "<tr>\n",
       "  <th>C(Planning_area)[T.Yishun]</th>                <td>    0.1290</td> <td>    0.093</td> <td>    1.383</td> <td> 0.167</td> <td>   -0.054</td> <td>    0.312</td>\n",
       "</tr>\n",
       "<tr>\n",
       "  <th>np.log(Area_sqm)</th>                          <td>    0.7895</td> <td>    0.002</td> <td>  337.856</td> <td> 0.000</td> <td>    0.785</td> <td>    0.794</td>\n",
       "</tr>\n",
       "<tr>\n",
       "  <th>np.log(PPI)</th>                               <td>    0.9381</td> <td>    0.007</td> <td>  127.069</td> <td> 0.000</td> <td>    0.924</td> <td>    0.953</td>\n",
       "</tr>\n",
       "<tr>\n",
       "  <th>Year</th>                                      <td>    0.0240</td> <td>    0.000</td> <td>   72.918</td> <td> 0.000</td> <td>    0.023</td> <td>    0.025</td>\n",
       "</tr>\n",
       "</table>\n",
       "<table class=\"simpletable\">\n",
       "<tr>\n",
       "  <th>Omnibus:</th>       <td>7642.280</td> <th>  Durbin-Watson:     </th> <td>   1.601</td> \n",
       "</tr>\n",
       "<tr>\n",
       "  <th>Prob(Omnibus):</th>  <td> 0.000</td>  <th>  Jarque-Bera (JB):  </th> <td>59843.829</td>\n",
       "</tr>\n",
       "<tr>\n",
       "  <th>Skew:</th>           <td>-0.319</td>  <th>  Prob(JB):          </th> <td>    0.00</td> \n",
       "</tr>\n",
       "<tr>\n",
       "  <th>Kurtosis:</th>       <td> 7.726</td>  <th>  Cond. No.          </th> <td>1.00e+16</td> \n",
       "</tr>\n",
       "</table><br/><br/>Notes:<br/>[1] Standard Errors assume that the covariance matrix of the errors is correctly specified.<br/>[2] The smallest eigenvalue is 2.55e-21. This might indicate that there are<br/>strong multicollinearity problems or that the design matrix is singular."
      ],
      "text/plain": [
       "<class 'statsmodels.iolib.summary.Summary'>\n",
       "\"\"\"\n",
       "                                OLS Regression Results                               \n",
       "=====================================================================================\n",
       "Dep. Variable:     np.log(Transaction_Price)   R-squared:                       0.838\n",
       "Model:                                   OLS   Adj. R-squared:                  0.838\n",
       "Method:                        Least Squares   F-statistic:                     2486.\n",
       "Date:                       Sun, 17 Apr 2022   Prob (F-statistic):               0.00\n",
       "Time:                               05:45:59   Log-Likelihood:                -30551.\n",
       "No. Observations:                      63146   AIC:                         6.137e+04\n",
       "Df Residuals:                          63014   BIC:                         6.256e+04\n",
       "Df Model:                                131                                         \n",
       "Covariance Type:                   nonrobust                                         \n",
       "=============================================================================================================\n",
       "                                                coef    std err          t      P>|t|      [0.025      0.975]\n",
       "-------------------------------------------------------------------------------------------------------------\n",
       "Intercept                                   -40.1167      0.699    -57.415      0.000     -41.486     -38.747\n",
       "C(Type_of_sale)[T.Resale]                    -0.2680      0.004    -67.738      0.000      -0.276      -0.260\n",
       "C(Type_of_sale)[T.Sub Sale]                   0.0029      0.010      0.293      0.769      -0.016       0.022\n",
       "C(Property_type)[T.Multiple-user Factory]    -0.5179      0.075     -6.869      0.000      -0.666      -0.370\n",
       "C(Property_type)[T.Office]                   -0.0739      0.076     -0.974      0.330      -0.223       0.075\n",
       "C(Property_type)[T.Retail]                    0.4500      0.076      5.908      0.000       0.301       0.599\n",
       "C(Property_type)[T.Shop House]               -0.3356      0.075     -4.489      0.000      -0.482      -0.189\n",
       "C(Property_type)[T.Single-user Factory]      -1.0333      0.074    -13.977      0.000      -1.178      -0.888\n",
       "C(Property_type)[T.Warehouse]                -0.3622      0.076     -4.793      0.000      -0.510      -0.214\n",
       "C(Tenure_type)[T.Leasehold]                  -0.4068      0.006    -71.737      0.000      -0.418      -0.396\n",
       "C(Type_of_area)[T.Land]                       0.4303      0.087      4.968      0.000       0.261       0.600\n",
       "C(Type_of_area)[T.Strata]                    -0.2997      0.087     -3.462      0.001      -0.469      -0.130\n",
       "C(Postal_sector)[T.3]                        -0.5906      0.228     -2.589      0.010      -1.038      -0.143\n",
       "C(Postal_sector)[T.4]                        -0.8081      0.228     -3.544      0.000      -1.255      -0.361\n",
       "C(Postal_sector)[T.5]                        -1.4811      0.228     -6.493      0.000      -1.928      -1.034\n",
       "C(Postal_sector)[T.6]                        -1.2105      0.227     -5.324      0.000      -1.656      -0.765\n",
       "C(Postal_sector)[T.7]                        -1.1860      0.227     -5.217      0.000      -1.632      -0.740\n",
       "C(Postal_sector)[T.8]                        -1.1991      0.228     -5.249      0.000      -1.647      -0.751\n",
       "C(Postal_sector)[T.9]                        -2.3480      0.244     -9.625      0.000      -2.826      -1.870\n",
       "C(Postal_sector)[T.10]                       -1.8497      0.261     -7.086      0.000      -2.361      -1.338\n",
       "C(Postal_sector)[T.11]                       -1.7248      0.242     -7.131      0.000      -2.199      -1.251\n",
       "C(Postal_sector)[T.12]                       -1.4866      0.265     -5.603      0.000      -2.007      -0.967\n",
       "C(Postal_sector)[T.13]                       -1.7138      0.254     -6.743      0.000      -2.212      -1.216\n",
       "C(Postal_sector)[T.14]                       -1.6449      0.242     -6.798      0.000      -2.119      -1.171\n",
       "C(Postal_sector)[T.15]                       -1.5941      0.230     -6.934      0.000      -2.045      -1.143\n",
       "C(Postal_sector)[T.16]                       -1.7231      0.229     -7.513      0.000      -2.173      -1.274\n",
       "C(Postal_sector)[T.17]                       -1.6364      0.227     -7.197      0.000      -2.082      -1.191\n",
       "C(Postal_sector)[T.18]                       -1.5537      0.228     -6.802      0.000      -2.001      -1.106\n",
       "C(Postal_sector)[T.19]                       -1.7165      0.229     -7.495      0.000      -2.165      -1.268\n",
       "C(Postal_sector)[T.20]                       -1.8077      0.229     -7.891      0.000      -2.257      -1.359\n",
       "C(Postal_sector)[T.21]                       -1.6404      0.230     -7.146      0.000      -2.090      -1.190\n",
       "C(Postal_sector)[T.22]                       -2.0551      0.230     -8.919      0.000      -2.507      -1.603\n",
       "C(Postal_sector)[T.23]                       -2.1050      0.231     -9.117      0.000      -2.558      -1.652\n",
       "C(Postal_sector)[T.24]                       -2.3647      0.235    -10.074      0.000      -2.825      -1.905\n",
       "C(Postal_sector)[T.25]                       -2.2805      0.272     -8.394      0.000      -2.813      -1.748\n",
       "C(Postal_sector)[T.26]                       -2.3529      0.267     -8.802      0.000      -2.877      -1.829\n",
       "C(Postal_sector)[T.27]                       -1.8647      0.264     -7.076      0.000      -2.381      -1.348\n",
       "C(Postal_sector)[T.28]                       -2.1036      0.275     -7.645      0.000      -2.643      -1.564\n",
       "C(Postal_sector)[T.29]                       -1.9481      0.326     -5.984      0.000      -2.586      -1.310\n",
       "C(Postal_sector)[T.30]                       -1.7363      0.236     -7.355      0.000      -2.199      -1.274\n",
       "C(Postal_sector)[T.31]                       -1.9240      0.252     -7.642      0.000      -2.417      -1.431\n",
       "C(Postal_sector)[T.32]                       -2.0970      0.233     -8.995      0.000      -2.554      -1.640\n",
       "C(Postal_sector)[T.33]                       -1.4076      0.230     -6.130      0.000      -1.858      -0.958\n",
       "C(Postal_sector)[T.34]                       -1.6162      0.241     -6.704      0.000      -2.089      -1.144\n",
       "C(Postal_sector)[T.35]                       -1.7597      0.277     -6.352      0.000      -2.303      -1.217\n",
       "C(Postal_sector)[T.36]                       -1.6980      0.245     -6.944      0.000      -2.177      -1.219\n",
       "C(Postal_sector)[T.37]                       -0.6560      0.368     -1.784      0.075      -1.377       0.065\n",
       "C(Postal_sector)[T.38]                       -1.6347      0.241     -6.787      0.000      -2.107      -1.163\n",
       "C(Postal_sector)[T.39]                       -1.9322      0.244     -7.915      0.000      -2.411      -1.454\n",
       "C(Postal_sector)[T.40]                       -1.4826      0.241     -6.155      0.000      -1.955      -1.011\n",
       "C(Postal_sector)[T.41]                       -1.8031      0.241     -7.472      0.000      -2.276      -1.330\n",
       "C(Postal_sector)[T.42]                       -1.9017      0.241     -7.880      0.000      -2.375      -1.429\n",
       "C(Postal_sector)[T.43]                       -1.9359      0.242     -7.990      0.000      -2.411      -1.461\n",
       "C(Postal_sector)[T.44]                       -1.4597      0.244     -5.993      0.000      -1.937      -0.982\n",
       "C(Postal_sector)[T.45]                       -1.7614      0.245     -7.184      0.000      -2.242      -1.281\n",
       "C(Postal_sector)[T.46]                       -1.9472      0.248     -7.851      0.000      -2.433      -1.461\n",
       "C(Postal_sector)[T.47]                       -2.0068      0.284     -7.079      0.000      -2.562      -1.451\n",
       "C(Postal_sector)[T.48]                       -1.6617      0.244     -6.804      0.000      -2.140      -1.183\n",
       "C(Postal_sector)[T.49]                       -0.6502      0.128     -5.076      0.000      -0.901      -0.399\n",
       "C(Postal_sector)[T.50]                       -1.7845      0.464     -3.847      0.000      -2.694      -0.875\n",
       "C(Postal_sector)[T.51]                       -1.4138      0.496     -2.853      0.004      -2.385      -0.442\n",
       "C(Postal_sector)[T.52]                       -1.6880      0.250     -6.751      0.000      -2.178      -1.198\n",
       "C(Postal_sector)[T.53]                       -1.6159      0.250     -6.467      0.000      -2.106      -1.126\n",
       "C(Postal_sector)[T.54]                       -1.8136      0.253     -7.165      0.000      -2.310      -1.317\n",
       "C(Postal_sector)[T.55]                       -1.5204      0.253     -6.013      0.000      -2.016      -1.025\n",
       "C(Postal_sector)[T.56]                       -1.5300      0.252     -6.065      0.000      -2.024      -1.036\n",
       "C(Postal_sector)[T.57]                       -1.6898      0.264     -6.397      0.000      -2.208      -1.172\n",
       "C(Postal_sector)[T.58]                       -2.4413      0.265     -9.221      0.000      -2.960      -1.922\n",
       "C(Postal_sector)[T.59]                       -2.2086      0.264     -8.355      0.000      -2.727      -1.690\n",
       "C(Postal_sector)[T.60]                       -1.6525      0.265     -6.226      0.000      -2.173      -1.132\n",
       "C(Postal_sector)[T.61]                       -2.3226      0.267     -8.687      0.000      -2.847      -1.799\n",
       "C(Postal_sector)[T.62]                       -2.2473      0.269     -8.364      0.000      -2.774      -1.721\n",
       "C(Postal_sector)[T.63]                       -2.1518      0.287     -7.489      0.000      -2.715      -1.589\n",
       "C(Postal_sector)[T.64]                       -0.9497      0.293     -3.237      0.001      -1.525      -0.375\n",
       "C(Postal_sector)[T.65]                       -0.6287      0.085     -7.391      0.000      -0.795      -0.462\n",
       "C(Postal_sector)[T.66]                       -0.4287      0.087     -4.955      0.000      -0.598      -0.259\n",
       "C(Postal_sector)[T.67]                       -2.3783      0.317     -7.503      0.000      -3.000      -1.757\n",
       "C(Postal_sector)[T.68]                       -1.4333      0.465     -3.082      0.002      -2.345      -0.522\n",
       "C(Postal_sector)[T.69]                       -4.3010      0.542     -7.939      0.000      -5.363      -3.239\n",
       "C(Postal_sector)[T.71]                       -2.5922      0.170    -15.247      0.000      -2.925      -2.259\n",
       "C(Postal_sector)[T.72]                       -1.1869      0.337     -3.522      0.000      -1.847      -0.526\n",
       "C(Postal_sector)[T.73]                       -1.4245      0.338     -4.217      0.000      -2.087      -0.763\n",
       "C(Postal_sector)[T.75]                       -1.3499      0.338     -3.995      0.000      -2.012      -0.688\n",
       "C(Postal_sector)[T.76]                       -1.9202      0.268     -7.157      0.000      -2.446      -1.394\n",
       "C(Postal_sector)[T.77]                       -1.7854      0.351     -5.082      0.000      -2.474      -1.097\n",
       "C(Postal_sector)[T.78]                       -1.5841      0.254     -6.240      0.000      -2.082      -1.087\n",
       "C(Postal_sector)[T.79]                       -2.6013      0.318     -8.190      0.000      -3.224      -1.979\n",
       "C(Postal_sector)[T.80]                       -2.0392      0.263     -7.755      0.000      -2.555      -1.524\n",
       "C(Postal_sector)[T.81]                       -0.4869      0.204     -2.387      0.017      -0.887      -0.087\n",
       "C(Planning_area)[T.Bedok]                     0.2903      0.098      2.976      0.003       0.099       0.482\n",
       "C(Planning_area)[T.Bishan]                    0.2903      0.078      3.704      0.000       0.137       0.444\n",
       "C(Planning_area)[T.Boon Lay]                 -0.0607      0.177     -0.343      0.731      -0.408       0.286\n",
       "C(Planning_area)[T.Bukit Batok]              -1.0575      0.169     -6.252      0.000      -1.389      -0.726\n",
       "C(Planning_area)[T.Bukit Merah]               0.4601      0.117      3.934      0.000       0.231       0.689\n",
       "C(Planning_area)[T.Bukit Panjang]             0.4937      0.222      2.227      0.026       0.059       0.928\n",
       "C(Planning_area)[T.Bukit Timah]               0.9472      0.170      5.588      0.000       0.615       1.279\n",
       "C(Planning_area)[T.Changi]                   -1.1371      0.193     -5.894      0.000      -1.515      -0.759\n",
       "C(Planning_area)[T.Choa Chu Kang]             0.3918      0.307      1.278      0.201      -0.209       0.993\n",
       "C(Planning_area)[T.Clementi]                  0.0817      0.172      0.476      0.634      -0.255       0.418\n",
       "C(Planning_area)[T.Downtown Core]             0.2499      0.112      2.233      0.026       0.031       0.469\n",
       "C(Planning_area)[T.Geylang]                   0.1001      0.096      1.042      0.297      -0.088       0.288\n",
       "C(Planning_area)[T.Hougang]                  -0.0155      0.058     -0.269      0.788      -0.128       0.097\n",
       "C(Planning_area)[T.Jurong East]               0.2425      0.173      1.403      0.161      -0.096       0.581\n",
       "C(Planning_area)[T.Jurong West]               0.3062      0.177      1.733      0.083      -0.040       0.653\n",
       "C(Planning_area)[T.Kallang]                   0.1668      0.109      1.536      0.125      -0.046       0.380\n",
       "C(Planning_area)[T.Lim Chu Kang]             -2.5922      0.170    -15.247      0.000      -2.925      -2.259\n",
       "C(Planning_area)[T.Mandai]                   -0.4320      0.276     -1.563      0.118      -0.974       0.110\n",
       "C(Planning_area)[T.Marine Parade]             0.2889      0.099      2.930      0.003       0.096       0.482\n",
       "C(Planning_area)[T.Museum]                    0.6716      0.120      5.610      0.000       0.437       0.906\n",
       "C(Planning_area)[T.Newton]                    0.8826      0.175      5.032      0.000       0.539       1.226\n",
       "C(Planning_area)[T.Novena]                    0.6612      0.118      5.605      0.000       0.430       0.892\n",
       "C(Planning_area)[T.Orchard]                   1.0127      0.116      8.754      0.000       0.786       1.239\n",
       "C(Planning_area)[T.Outram]                    0.3283      0.113      2.894      0.004       0.106       0.551\n",
       "C(Planning_area)[T.Pasir Ris]                -0.2920      0.407     -0.717      0.473      -1.090       0.506\n",
       "C(Planning_area)[T.Paya Lebar]               -0.1639      0.128     -1.276      0.202      -0.416       0.088\n",
       "C(Planning_area)[T.Pioneer]                  -0.1591      0.178     -0.895      0.371      -0.508       0.189\n",
       "C(Planning_area)[T.Queenstown]                0.4527      0.136      3.328      0.001       0.186       0.719\n",
       "C(Planning_area)[T.River Valley]              0.8959      0.124      7.219      0.000       0.653       1.139\n",
       "C(Planning_area)[T.Rochor]                    0.3099      0.109      2.835      0.005       0.096       0.524\n",
       "C(Planning_area)[T.Seletar]                   0.4136      0.304      1.358      0.174      -0.183       1.010\n",
       "C(Planning_area)[T.Sembawang]                -0.6186      0.257     -2.410      0.016      -1.122      -0.116\n",
       "C(Planning_area)[T.Sengkang]                  0.9279      0.188      4.938      0.000       0.560       1.296\n",
       "C(Planning_area)[T.Serangoon]                -0.0773      0.027     -2.889      0.004      -0.130      -0.025\n",
       "C(Planning_area)[T.Singapore River]           0.6014      0.114      5.261      0.000       0.377       0.825\n",
       "C(Planning_area)[T.Sungei Kadut]             -0.7309      0.256     -2.857      0.004      -1.232      -0.229\n",
       "C(Planning_area)[T.Tampines]                 -0.0146      0.109     -0.135      0.893      -0.227       0.198\n",
       "C(Planning_area)[T.Tanglin]                   0.9001      0.141      6.362      0.000       0.623       1.177\n",
       "C(Planning_area)[T.Toa Payoh]                 0.3531      0.088      4.001      0.000       0.180       0.526\n",
       "C(Planning_area)[T.Tuas]                      0.1514      0.204      0.741      0.459      -0.249       0.552\n",
       "C(Planning_area)[T.Western Islands]           1.8848      0.330      5.716      0.000       1.238       2.531\n",
       "C(Planning_area)[T.Woodlands]                -0.3720      0.257     -1.449      0.147      -0.875       0.131\n",
       "C(Planning_area)[T.Yishun]                    0.1290      0.093      1.383      0.167      -0.054       0.312\n",
       "np.log(Area_sqm)                              0.7895      0.002    337.856      0.000       0.785       0.794\n",
       "np.log(PPI)                                   0.9381      0.007    127.069      0.000       0.924       0.953\n",
       "Year                                          0.0240      0.000     72.918      0.000       0.023       0.025\n",
       "==============================================================================\n",
       "Omnibus:                     7642.280   Durbin-Watson:                   1.601\n",
       "Prob(Omnibus):                  0.000   Jarque-Bera (JB):            59843.829\n",
       "Skew:                          -0.319   Prob(JB):                         0.00\n",
       "Kurtosis:                       7.726   Cond. No.                     1.00e+16\n",
       "==============================================================================\n",
       "\n",
       "Notes:\n",
       "[1] Standard Errors assume that the covariance matrix of the errors is correctly specified.\n",
       "[2] The smallest eigenvalue is 2.55e-21. This might indicate that there are\n",
       "strong multicollinearity problems or that the design matrix is singular.\n",
       "\"\"\""
      ]
     },
     "execution_count": 4,
     "metadata": {},
     "output_type": "execute_result"
    }
   ],
   "source": [
    "res1 = smf.ols('np.log(Transaction_Price) ~ np.log(Area_sqm) + np.log(PPI) + Year + C(Type_of_sale) + C(Property_type) + C(Tenure_type) + C(Type_of_area) + C(Postal_sector) + C(Planning_area)' , data = df).fit()\n",
    "res1.summary()"
   ]
  },
  {
   "cell_type": "code",
   "execution_count": 5,
   "metadata": {},
   "outputs": [
    {
     "data": {
      "text/plain": [
       "0.2134983683401639"
      ]
     },
     "execution_count": 5,
     "metadata": {},
     "output_type": "execute_result"
    }
   ],
   "source": [
    "res1 = smf.ols('np.log(Transaction_Price) ~ np.log(Area_sqm) + np.log(PPI) + Year + C(Type_of_sale) + C(Property_type) + C(Tenure_type) + C(Type_of_area) + C(Postal_sector) + C(Planning_area)' , data = df).fit()\n",
    "df_all = df\n",
    "df_all['Valuation_Price'] = np.exp(res1.fittedvalues).round()\n",
    "df_all['Diff_Price'] = abs(df_all['Valuation_Price'] / df_all['Transaction_Price'] - 1)\n",
    "df_all['Diff_Price'].median()"
   ]
  },
  {
   "cell_type": "markdown",
   "metadata": {},
   "source": [
    "The median prediction error by running 1 regression for all 7 property types was 21.3%."
   ]
  },
  {
   "cell_type": "markdown",
   "metadata": {},
   "source": [
    "### Final regression model: 1 predictive regression run for each of the 7 property types"
   ]
  },
  {
   "cell_type": "code",
   "execution_count": 6,
   "metadata": {},
   "outputs": [],
   "source": [
    "df_office = df[df['Property_type'].str.contains('Office')]\n",
    "df_retail = df[df['Property_type'].str.contains('Retail')]\n",
    "df_shophouse = df[df['Property_type'].str.contains('Shop House')]\n",
    "df_bp = df[df['Property_type'].str.contains('Business')]\n",
    "df_multi_fac = df[df['Property_type'].str.contains('Multiple')]\n",
    "df_single_fac = df[df['Property_type'].str.contains('Single')]\n",
    "df_warehouse = df[df['Property_type'].str.contains('Warehouse')]"
   ]
  },
  {
   "cell_type": "code",
   "execution_count": 7,
   "metadata": {},
   "outputs": [
    {
     "name": "stderr",
     "output_type": "stream",
     "text": [
      "<ipython-input-7-de2362ac451d>:2: SettingWithCopyWarning: \n",
      "A value is trying to be set on a copy of a slice from a DataFrame.\n",
      "Try using .loc[row_indexer,col_indexer] = value instead\n",
      "\n",
      "See the caveats in the documentation: https://pandas.pydata.org/pandas-docs/stable/user_guide/indexing.html#returning-a-view-versus-a-copy\n",
      "  df_retail['Valuation_Price'] = np.exp(res_retail.fittedvalues).round()\n",
      "<ipython-input-7-de2362ac451d>:3: SettingWithCopyWarning: \n",
      "A value is trying to be set on a copy of a slice from a DataFrame.\n",
      "Try using .loc[row_indexer,col_indexer] = value instead\n",
      "\n",
      "See the caveats in the documentation: https://pandas.pydata.org/pandas-docs/stable/user_guide/indexing.html#returning-a-view-versus-a-copy\n",
      "  df_retail['Diff_Price'] = abs(df_retail['Valuation_Price'] / df_retail['Transaction_Price'] - 1)\n"
     ]
    },
    {
     "data": {
      "text/plain": [
       "Property_type\n",
       "Retail    0.21\n",
       "Name: Diff_Price, dtype: float64"
      ]
     },
     "execution_count": 7,
     "metadata": {},
     "output_type": "execute_result"
    }
   ],
   "source": [
    "res_retail = smf.ols('np.log(Transaction_Price) ~ np.log(Area_sqm) + np.log(PPI) + Year + C(Type_of_sale) + C(Tenure_type) + C(Type_of_area) + C(Postal_sector) + C(Planning_area)', data = df_retail).fit()\n",
    "df_retail['Valuation_Price'] = np.exp(res_retail.fittedvalues).round()\n",
    "df_retail['Diff_Price'] = abs(df_retail['Valuation_Price'] / df_retail['Transaction_Price'] - 1)\n",
    "df_retail.groupby('Property_type').median()['Diff_Price'].round(2)"
   ]
  },
  {
   "cell_type": "code",
   "execution_count": 8,
   "metadata": {},
   "outputs": [
    {
     "name": "stderr",
     "output_type": "stream",
     "text": [
      "<ipython-input-8-2d38740c8c99>:3: SettingWithCopyWarning: \n",
      "A value is trying to be set on a copy of a slice from a DataFrame.\n",
      "Try using .loc[row_indexer,col_indexer] = value instead\n",
      "\n",
      "See the caveats in the documentation: https://pandas.pydata.org/pandas-docs/stable/user_guide/indexing.html#returning-a-view-versus-a-copy\n",
      "  df_office['Valuation_Price'] = np.exp(res_office.fittedvalues).round()\n",
      "<ipython-input-8-2d38740c8c99>:4: SettingWithCopyWarning: \n",
      "A value is trying to be set on a copy of a slice from a DataFrame.\n",
      "Try using .loc[row_indexer,col_indexer] = value instead\n",
      "\n",
      "See the caveats in the documentation: https://pandas.pydata.org/pandas-docs/stable/user_guide/indexing.html#returning-a-view-versus-a-copy\n",
      "  df_office['Diff_Price'] = abs(df_office['Valuation_Price'] / df_office['Transaction_Price'] - 1)\n"
     ]
    },
    {
     "data": {
      "text/plain": [
       "Property_type\n",
       "Office    0.15\n",
       "Name: Diff_Price, dtype: float64"
      ]
     },
     "execution_count": 8,
     "metadata": {},
     "output_type": "execute_result"
    }
   ],
   "source": [
    "res_office = smf.ols('np.log(Transaction_Price) ~ np.log(Area_sqm) + np.log(PPI)+ Year +  C(Type_of_sale) + C(Tenure_type) + C(Type_of_area) + C(Postal_sector) + C(Planning_area)' , data = df_office).fit()\n",
    "# res_office.summary()\n",
    "df_office['Valuation_Price'] = np.exp(res_office.fittedvalues).round()\n",
    "df_office['Diff_Price'] = abs(df_office['Valuation_Price'] / df_office['Transaction_Price'] - 1)\n",
    "df_office.groupby('Property_type').median()['Diff_Price'].round(2)\n",
    "\n"
   ]
  },
  {
   "cell_type": "code",
   "execution_count": 9,
   "metadata": {},
   "outputs": [
    {
     "name": "stderr",
     "output_type": "stream",
     "text": [
      "<ipython-input-9-b7125f09b600>:2: SettingWithCopyWarning: \n",
      "A value is trying to be set on a copy of a slice from a DataFrame.\n",
      "Try using .loc[row_indexer,col_indexer] = value instead\n",
      "\n",
      "See the caveats in the documentation: https://pandas.pydata.org/pandas-docs/stable/user_guide/indexing.html#returning-a-view-versus-a-copy\n",
      "  df_shophouse['Valuation_Price'] = np.exp(res_shophouse.fittedvalues).round()\n",
      "<ipython-input-9-b7125f09b600>:3: SettingWithCopyWarning: \n",
      "A value is trying to be set on a copy of a slice from a DataFrame.\n",
      "Try using .loc[row_indexer,col_indexer] = value instead\n",
      "\n",
      "See the caveats in the documentation: https://pandas.pydata.org/pandas-docs/stable/user_guide/indexing.html#returning-a-view-versus-a-copy\n",
      "  df_shophouse['Diff_Price'] = abs(df_shophouse['Valuation_Price'] / df_shophouse['Transaction_Price'] - 1)\n"
     ]
    },
    {
     "data": {
      "text/plain": [
       "Property_type\n",
       "Shop House    0.23\n",
       "Name: Diff_Price, dtype: float64"
      ]
     },
     "execution_count": 9,
     "metadata": {},
     "output_type": "execute_result"
    }
   ],
   "source": [
    "res_shophouse = smf.ols('np.log(Transaction_Price) ~ np.log(Area_sqm) + np.log(PPI) + Year + C(Type_of_sale) + C(Tenure_type) + C(Type_of_area) + C(Postal_sector) + C(Planning_area)', data = df_shophouse).fit()\n",
    "df_shophouse['Valuation_Price'] = np.exp(res_shophouse.fittedvalues).round()\n",
    "df_shophouse['Diff_Price'] = abs(df_shophouse['Valuation_Price'] / df_shophouse['Transaction_Price'] - 1)\n",
    "df_shophouse.groupby('Property_type').median()['Diff_Price'].round(2)"
   ]
  },
  {
   "cell_type": "code",
   "execution_count": 10,
   "metadata": {},
   "outputs": [
    {
     "name": "stderr",
     "output_type": "stream",
     "text": [
      "<ipython-input-10-e6e76a8d7c65>:2: SettingWithCopyWarning: \n",
      "A value is trying to be set on a copy of a slice from a DataFrame.\n",
      "Try using .loc[row_indexer,col_indexer] = value instead\n",
      "\n",
      "See the caveats in the documentation: https://pandas.pydata.org/pandas-docs/stable/user_guide/indexing.html#returning-a-view-versus-a-copy\n",
      "  df_multi_fac['Valuation_Price'] = np.exp(res_multi_fac.fittedvalues).round()\n",
      "<ipython-input-10-e6e76a8d7c65>:3: SettingWithCopyWarning: \n",
      "A value is trying to be set on a copy of a slice from a DataFrame.\n",
      "Try using .loc[row_indexer,col_indexer] = value instead\n",
      "\n",
      "See the caveats in the documentation: https://pandas.pydata.org/pandas-docs/stable/user_guide/indexing.html#returning-a-view-versus-a-copy\n",
      "  df_multi_fac['Diff_Price'] = abs(df_multi_fac['Valuation_Price'] / df_multi_fac['Transaction_Price'] - 1)\n"
     ]
    },
    {
     "data": {
      "text/plain": [
       "Property_type\n",
       "Multiple-user Factory    0.17\n",
       "Name: Diff_Price, dtype: float64"
      ]
     },
     "execution_count": 10,
     "metadata": {},
     "output_type": "execute_result"
    }
   ],
   "source": [
    "res_multi_fac = smf.ols('np.log(Transaction_Price) ~ np.log(Area_sqm) + np.log(PPI) + Year + C(Type_of_sale) + C(Tenure_type) + C(Type_of_area) + C(Postal_sector) + C(Planning_area)', data = df_multi_fac).fit()\n",
    "df_multi_fac['Valuation_Price'] = np.exp(res_multi_fac.fittedvalues).round()\n",
    "df_multi_fac['Diff_Price'] = abs(df_multi_fac['Valuation_Price'] / df_multi_fac['Transaction_Price'] - 1)\n",
    "df_multi_fac.groupby('Property_type').median()['Diff_Price'].round(2)"
   ]
  },
  {
   "cell_type": "code",
   "execution_count": 11,
   "metadata": {},
   "outputs": [
    {
     "name": "stderr",
     "output_type": "stream",
     "text": [
      "<ipython-input-11-56cd191fe51e>:2: SettingWithCopyWarning: \n",
      "A value is trying to be set on a copy of a slice from a DataFrame.\n",
      "Try using .loc[row_indexer,col_indexer] = value instead\n",
      "\n",
      "See the caveats in the documentation: https://pandas.pydata.org/pandas-docs/stable/user_guide/indexing.html#returning-a-view-versus-a-copy\n",
      "  df_single_fac['Valuation_Price'] = np.exp(res_single_fac.fittedvalues).round()\n",
      "<ipython-input-11-56cd191fe51e>:3: SettingWithCopyWarning: \n",
      "A value is trying to be set on a copy of a slice from a DataFrame.\n",
      "Try using .loc[row_indexer,col_indexer] = value instead\n",
      "\n",
      "See the caveats in the documentation: https://pandas.pydata.org/pandas-docs/stable/user_guide/indexing.html#returning-a-view-versus-a-copy\n",
      "  df_single_fac['Diff_Price'] = abs(df_single_fac['Valuation_Price'] / df_single_fac['Transaction_Price'] - 1)\n"
     ]
    },
    {
     "data": {
      "text/plain": [
       "Property_type\n",
       "Single-user Factory    0.33\n",
       "Name: Diff_Price, dtype: float64"
      ]
     },
     "execution_count": 11,
     "metadata": {},
     "output_type": "execute_result"
    }
   ],
   "source": [
    "res_single_fac = smf.ols('np.log(Transaction_Price) ~ np.log(Area_sqm) + np.log(PPI) + Year + C(Type_of_sale)  + C(Tenure_type) + C(Type_of_area) + C(Postal_sector) + C(Planning_area)', data = df_single_fac).fit()\n",
    "df_single_fac['Valuation_Price'] = np.exp(res_single_fac.fittedvalues).round()\n",
    "df_single_fac['Diff_Price'] = abs(df_single_fac['Valuation_Price'] / df_single_fac['Transaction_Price'] - 1)\n",
    "df_single_fac.groupby('Property_type').median()['Diff_Price'].round(2)"
   ]
  },
  {
   "cell_type": "code",
   "execution_count": 12,
   "metadata": {},
   "outputs": [
    {
     "name": "stderr",
     "output_type": "stream",
     "text": [
      "<ipython-input-12-779b8000839f>:2: SettingWithCopyWarning: \n",
      "A value is trying to be set on a copy of a slice from a DataFrame.\n",
      "Try using .loc[row_indexer,col_indexer] = value instead\n",
      "\n",
      "See the caveats in the documentation: https://pandas.pydata.org/pandas-docs/stable/user_guide/indexing.html#returning-a-view-versus-a-copy\n",
      "  df_bp['Valuation_Price'] = np.exp(res_bp.fittedvalues).round()\n",
      "<ipython-input-12-779b8000839f>:3: SettingWithCopyWarning: \n",
      "A value is trying to be set on a copy of a slice from a DataFrame.\n",
      "Try using .loc[row_indexer,col_indexer] = value instead\n",
      "\n",
      "See the caveats in the documentation: https://pandas.pydata.org/pandas-docs/stable/user_guide/indexing.html#returning-a-view-versus-a-copy\n",
      "  df_bp['Diff_Price'] = abs(df_bp['Valuation_Price'] / df_bp['Transaction_Price'] - 1)\n"
     ]
    },
    {
     "data": {
      "text/plain": [
       "Property_type\n",
       "Business Park    0.27\n",
       "Name: Diff_Price, dtype: float64"
      ]
     },
     "execution_count": 12,
     "metadata": {},
     "output_type": "execute_result"
    }
   ],
   "source": [
    "res_bp = smf.ols('np.log(Transaction_Price) ~ np.log(Area_sqm) + np.log(PPI) + Year + C(Type_of_sale) + C(Tenure_type) + C(Type_of_area) + C(Postal_sector) + C(Planning_area)', data = df_bp).fit()\n",
    "df_bp['Valuation_Price'] = np.exp(res_bp.fittedvalues).round()\n",
    "df_bp['Diff_Price'] = abs(df_bp['Valuation_Price'] / df_bp['Transaction_Price'] - 1)\n",
    "df_bp.groupby('Property_type').median()['Diff_Price'].round(2)"
   ]
  },
  {
   "cell_type": "code",
   "execution_count": 13,
   "metadata": {},
   "outputs": [
    {
     "name": "stderr",
     "output_type": "stream",
     "text": [
      "<ipython-input-13-2e9552f704b1>:2: SettingWithCopyWarning: \n",
      "A value is trying to be set on a copy of a slice from a DataFrame.\n",
      "Try using .loc[row_indexer,col_indexer] = value instead\n",
      "\n",
      "See the caveats in the documentation: https://pandas.pydata.org/pandas-docs/stable/user_guide/indexing.html#returning-a-view-versus-a-copy\n",
      "  df_warehouse['Valuation_Price'] = np.exp(res_warehouse.fittedvalues).round()\n",
      "<ipython-input-13-2e9552f704b1>:3: SettingWithCopyWarning: \n",
      "A value is trying to be set on a copy of a slice from a DataFrame.\n",
      "Try using .loc[row_indexer,col_indexer] = value instead\n",
      "\n",
      "See the caveats in the documentation: https://pandas.pydata.org/pandas-docs/stable/user_guide/indexing.html#returning-a-view-versus-a-copy\n",
      "  df_warehouse['Diff_Price'] = abs(df_warehouse['Valuation_Price'] / df_warehouse['Transaction_Price'] - 1)\n"
     ]
    },
    {
     "data": {
      "text/plain": [
       "Property_type\n",
       "Warehouse    0.16\n",
       "Name: Diff_Price, dtype: float64"
      ]
     },
     "execution_count": 13,
     "metadata": {},
     "output_type": "execute_result"
    }
   ],
   "source": [
    "res_warehouse = smf.ols('np.log(Transaction_Price) ~ np.log(Area_sqm) + np.log(PPI) + Year + C(Type_of_sale) + C(Tenure_type) + C(Type_of_area) + C(Postal_sector) + C(Planning_area)', data = df_warehouse).fit()\n",
    "df_warehouse['Valuation_Price'] = np.exp(res_warehouse.fittedvalues).round()\n",
    "df_warehouse['Diff_Price'] = abs(df_warehouse['Valuation_Price'] / df_warehouse['Transaction_Price'] - 1)\n",
    "df_warehouse.groupby('Property_type').median()['Diff_Price'].round(2)"
   ]
  },
  {
   "cell_type": "code",
   "execution_count": 14,
   "metadata": {},
   "outputs": [
    {
     "data": {
      "text/plain": [
       "0.17799919392614455"
      ]
     },
     "execution_count": 14,
     "metadata": {},
     "output_type": "execute_result"
    }
   ],
   "source": [
    "df_combined = pd.concat([df_office, df_retail, df_shophouse, df_bp, df_multi_fac, df_single_fac, df_warehouse], axis=0)\n",
    "df_combined = df_combined.reset_index(drop = True)\n",
    "df_combined['Diff_Price'].median()\n"
   ]
  },
  {
   "cell_type": "markdown",
   "metadata": {},
   "source": [
    "The overall median prediction error by running 7 regressions for all 7 property types was 17.8%."
   ]
  },
  {
   "cell_type": "markdown",
   "metadata": {},
   "source": [
    "## Part 3: Understanding prediction errors"
   ]
  },
  {
   "cell_type": "code",
   "execution_count": 15,
   "metadata": {},
   "outputs": [
    {
     "data": {
      "image/png": "[encoded data removed]",
      "text/plain": [
       "<Figure size 432x288 with 1 Axes>"
      ]
     },
     "metadata": {
      "needs_background": "light"
     },
     "output_type": "display_data"
    }
   ],
   "source": [
    "dz = df_combined.groupby('Year').agg({'Diff_Price': ['median']}).reset_index()\n",
    "\n",
    "fig, ax = plt.subplots(1,1)\n",
    "plt.scatter(dz['Year'],dz['Diff_Price'])\n",
    "plt.plot(dz['Year'],dz['Diff_Price'],color=(0,0,0))\n",
    "plt.xlabel('Transaction Year')\n",
    "plt.ylabel('Prediction Error (Median)')\n",
    "plt.grid(color=(.9,.9,.9))\n",
    "plt.show()"
   ]
  },
  {
   "cell_type": "code",
   "execution_count": 16,
   "metadata": {
    "scrolled": true
   },
   "outputs": [
    {
     "data": {
      "image/png": "[encoded data removed]",
      "text/plain": [
       "<Figure size 432x288 with 1 Axes>"
      ]
     },
     "metadata": {
      "needs_background": "light"
     },
     "output_type": "display_data"
    }
   ],
   "source": [
    "dg = df_combined.groupby('Property_type').agg({'Diff_Price': ['median', 'count']}).reset_index()\n",
    "\n",
    "fig, ax = plt.subplots()\n",
    "plt.scatter(dg['Diff_Price']['count'], dg['Diff_Price']['median'], color = (.2, .2, .5))\n",
    "plt.grid(color = (0.9,0.9,0.9))\n",
    "ax.set_axisbelow(True)\n",
    "plt.plot(dg['Diff_Price']['count'], smf.ols(data = dg['Diff_Price'], formula = 'median ~ count').fit().predict(dg['Diff_Price']['count']))\n",
    "ax.set_xlabel('Number of transactions')\n",
    "ax.set_ylabel('Prediction error (median)')\n",
    "for i in range(len(dg)):\n",
    "    plt.text(dg['Diff_Price'].loc[i, 'count']+200, dg['Diff_Price'].loc[i, 'median']+.005, dg.loc[i, 'Property_type'][0])\n",
    "    \n"
   ]
  },
  {
   "cell_type": "code",
   "execution_count": 17,
   "metadata": {},
   "outputs": [
    {
     "name": "stdout",
     "output_type": "stream",
     "text": [
      "Intercept        0.322719\n",
      "np.log(count)   -0.013256\n",
      "dtype: float64\n",
      "                      0         1\n",
      "Intercept      0.077489  0.567948\n",
      "np.log(count) -0.042691  0.016178\n"
     ]
    },
    {
     "data": {
      "text/plain": [
       "Intercept        3.382853\n",
       "np.log(count)    1.157727\n",
       "dtype: float64"
      ]
     },
     "execution_count": 17,
     "metadata": {},
     "output_type": "execute_result"
    },
    {
     "data": {
      "image/png": "[encoded data removed]",
      "text/plain": [
       "<Figure size 432x288 with 1 Axes>"
      ]
     },
     "metadata": {
      "needs_background": "light"
     },
     "output_type": "display_data"
    }
   ],
   "source": [
    "dg = df_combined.groupby('Property_type').agg({'Diff_Price': ['median'], 'Property_type':['count']}).reset_index()\n",
    "sns.regplot(x=np.log(dg['Property_type']['count']),y=dg['Diff_Price'], ci = None, line_kws={\"color\":\"r\",\"alpha\":0.9,\"lw\":3})\n",
    "dg.columns = dg.columns.droplevel(0)\n",
    "plt.xlabel('Log(Number of Transactions)') \n",
    "plt.ylabel('Prediction Error(Median)') \n",
    "res = smf.ols(data = dg, formula = 'median ~ np.log(count)').fit()\n",
    "print(res.params)\n",
    "print(res.conf_int())\n",
    "abs(res.params/res.bse)"
   ]
  },
  {
   "cell_type": "code",
   "execution_count": 18,
   "metadata": {},
   "outputs": [
    {
     "name": "stdout",
     "output_type": "stream",
     "text": [
      "Intercept                 -0.680499\n",
      "np.log(Valuation_Price)    0.068109\n",
      "dtype: float64\n",
      "                                0         1\n",
      "Intercept               -0.777178 -0.583820\n",
      "np.log(Valuation_Price)  0.061111  0.075107\n"
     ]
    },
    {
     "data": {
      "text/plain": [
       "Intercept                  13.795966\n",
       "np.log(Valuation_Price)    19.076419\n",
       "dtype: float64"
      ]
     },
     "execution_count": 18,
     "metadata": {},
     "output_type": "execute_result"
    },
    {
     "data": {
      "image/png": "[encoded data removed]",
      "text/plain": [
       "<Figure size 432x288 with 1 Axes>"
      ]
     },
     "metadata": {
      "needs_background": "light"
     },
     "output_type": "display_data"
    }
   ],
   "source": [
    "sns.regplot(x=np.log(df_combined['Valuation_Price']),y=df_combined['Diff_Price'], ci = None, line_kws={\"color\":\"r\",\"alpha\":0.9,\"lw\":3})\n",
    "plt.ylim([-0.1,3])\n",
    "plt.xlabel('Log(Valuation Price)')\n",
    "plt.ylabel('Prediction Error')\n",
    "\n",
    "res = smf.ols(data = df_combined, formula = 'Diff_Price ~ np.log(Valuation_Price)').fit()\n",
    "print(res.params)\n",
    "print(res.conf_int())\n",
    "\n",
    "abs(res.params/res.bse)"
   ]
  },
  {
   "cell_type": "code",
   "execution_count": 19,
   "metadata": {},
   "outputs": [
    {
     "name": "stdout",
     "output_type": "stream",
     "text": [
      "Intercept          -0.121432\n",
      "np.log(Area_sqm)    0.073878\n",
      "dtype: float64\n",
      "                         0         1\n",
      "Intercept        -0.149977 -0.092887\n",
      "np.log(Area_sqm)  0.068467  0.079289\n"
     ]
    },
    {
     "data": {
      "text/plain": [
       "Intercept            8.337914\n",
       "np.log(Area_sqm)    26.761580\n",
       "dtype: float64"
      ]
     },
     "execution_count": 19,
     "metadata": {},
     "output_type": "execute_result"
    },
    {
     "data": {
      "image/png": "[encoded data removed]",
      "text/plain": [
       "<Figure size 432x288 with 1 Axes>"
      ]
     },
     "metadata": {
      "needs_background": "light"
     },
     "output_type": "display_data"
    }
   ],
   "source": [
    "\n",
    "\n",
    "sns.regplot(x=np.log(df_combined['Area_sqm']),y=df_combined['Diff_Price'], ci = None, line_kws={\"color\":\"r\",\"alpha\":0.9,\"lw\":3})\n",
    "# plt.ylim([0,1])\n",
    "plt.ylim([-0.1,3])\n",
    "# plt.xlim([0,50000])\n",
    "# plt.xlim([0,100000])\n",
    "plt.xlabel('Log(Area)')\n",
    "plt.ylabel('Prediction Error') \n",
    "\n",
    "res = smf.ols(data = df_combined, formula = 'Diff_Price ~ np.log(Area_sqm)').fit()\n",
    "print(res.params)\n",
    "print(res.conf_int())\n",
    "\n",
    "abs(res.params/res.bse)"
   ]
  },
  {
   "cell_type": "code",
   "execution_count": 20,
   "metadata": {},
   "outputs": [
    {
     "name": "stdout",
     "output_type": "stream",
     "text": [
      "Intercept    0.208392\n",
      "Age_years    0.004360\n",
      "dtype: float64\n",
      "                  0         1\n",
      "Intercept  0.199618  0.217165\n",
      "Age_years  0.003839  0.004881\n"
     ]
    },
    {
     "data": {
      "text/plain": [
       "Intercept    46.554600\n",
       "Age_years    16.404666\n",
       "dtype: float64"
      ]
     },
     "execution_count": 20,
     "metadata": {},
     "output_type": "execute_result"
    },
    {
     "data": {
      "image/png": "[encoded data removed]",
      "text/plain": [
       "<Figure size 432x288 with 1 Axes>"
      ]
     },
     "metadata": {
      "needs_background": "light"
     },
     "output_type": "display_data"
    }
   ],
   "source": [
    "sns.regplot(x=df_combined['Age_years'],y=df_combined['Diff_Price'], ci = None, line_kws={\"color\":\"r\",\"alpha\":0.9,\"lw\":3})\n",
    "plt.ylim([-0.1,3])\n",
    "plt.xlabel('Age') \n",
    "plt.ylabel('Prediction Error')\n",
    "\n",
    "res = smf.ols(data = df_combined, formula = 'Diff_Price ~ Age_years').fit()\n",
    "print(res.params)\n",
    "print(res.conf_int())\n",
    "\n",
    "abs(res.params/res.bse)"
   ]
  },
  {
   "cell_type": "code",
   "execution_count": 21,
   "metadata": {},
   "outputs": [
    {
     "name": "stdout",
     "output_type": "stream",
     "text": [
      "Intercept                  0.187829\n",
      "np.log(Median_resi_psf)   -0.000055\n",
      "dtype: float64\n",
      "                                0         1\n",
      "Intercept               -0.328933  0.704592\n",
      "np.log(Median_resi_psf) -0.072563  0.072453\n"
     ]
    },
    {
     "data": {
      "text/plain": [
       "Intercept                  0.733518\n",
       "np.log(Median_resi_psf)    0.001537\n",
       "dtype: float64"
      ]
     },
     "execution_count": 21,
     "metadata": {},
     "output_type": "execute_result"
    },
    {
     "data": {
      "image/png": "[encoded data removed]",
      "text/plain": [
       "<Figure size 432x288 with 1 Axes>"
      ]
     },
     "metadata": {
      "needs_background": "light"
     },
     "output_type": "display_data"
    }
   ],
   "source": [
    "dg = df_combined.groupby('Planning_area').agg({'Diff_Price': ['median'], 'Median_resi_psf':['median']}).reset_index()\n",
    "sns.regplot(x=np.log(dg['Median_resi_psf']),y=dg['Diff_Price'], ci = None, line_kws={\"color\":\"r\",\"alpha\":0.9,\"lw\":3})\n",
    "plt.xlabel('Log(Median Residential PSF)') \n",
    "plt.ylabel('Prediction Error') \n",
    "res = smf.ols(data = dg, formula = 'Diff_Price ~ np.log(Median_resi_psf)').fit()\n",
    "print(res.params)\n",
    "print(res.conf_int())\n",
    "\n",
    "abs(res.params/res.bse)\n",
    "\n"
   ]
  },
  {
   "cell_type": "code",
   "execution_count": 22,
   "metadata": {},
   "outputs": [
    {
     "name": "stdout",
     "output_type": "stream",
     "text": [
      "Intercept                        0.258061\n",
      "np.log(Planning_area_density)   -0.009516\n",
      "dtype: float64\n",
      "                                      0         1\n",
      "Intercept                      0.202797  0.313326\n",
      "np.log(Planning_area_density) -0.016403 -0.002630\n"
     ]
    },
    {
     "data": {
      "text/plain": [
       "Intercept                        9.423553\n",
       "np.log(Planning_area_density)    2.788707\n",
       "dtype: float64"
      ]
     },
     "execution_count": 22,
     "metadata": {},
     "output_type": "execute_result"
    },
    {
     "data": {
      "image/png": "[encoded data removed]",
      "text/plain": [
       "<Figure size 432x288 with 1 Axes>"
      ]
     },
     "metadata": {
      "needs_background": "light"
     },
     "output_type": "display_data"
    }
   ],
   "source": [
    "dg = df_combined.groupby('Planning_area').agg({'Diff_Price': ['median'], 'Planning_area_density':['median']}).reset_index()\n",
    "\n",
    "sns.regplot(x=np.log(dg['Planning_area_density']),y=dg['Diff_Price'], ci = None, line_kws={\"color\":\"r\",\"alpha\":0.9,\"lw\":3})\n",
    "plt.xlabel('Log(Planning Area Density)')\n",
    "plt.ylabel('Prediction Error') \n",
    "res = smf.ols(data = dg, formula = 'Diff_Price ~ np.log(Planning_area_density)').fit()\n",
    "print(res.params)\n",
    "print(res.conf_int())\n",
    "abs(res.params/res.bse)"
   ]
  },
  {
   "cell_type": "code",
   "execution_count": 23,
   "metadata": {},
   "outputs": [
    {
     "name": "stdout",
     "output_type": "stream",
     "text": [
      "Intercept                           0.277972\n",
      "np.log(Planning_area_population)   -0.009446\n",
      "dtype: float64\n",
      "                                         0         1\n",
      "Intercept                         0.206936  0.349009\n",
      "np.log(Planning_area_population) -0.016522 -0.002370\n"
     ]
    },
    {
     "data": {
      "text/plain": [
       "Intercept                           7.896969\n",
       "np.log(Planning_area_population)    2.694078\n",
       "dtype: float64"
      ]
     },
     "execution_count": 23,
     "metadata": {},
     "output_type": "execute_result"
    },
    {
     "data": {
      "image/png": "[encoded data removed]",
      "text/plain": [
       "<Figure size 432x288 with 1 Axes>"
      ]
     },
     "metadata": {
      "needs_background": "light"
     },
     "output_type": "display_data"
    }
   ],
   "source": [
    "dg = df_combined.groupby('Planning_area').agg({'Diff_Price': ['median'], 'Planning_area_population':['median']}).reset_index()\n",
    "\n",
    "sns.regplot(x=np.log(dg['Planning_area_population']),y=dg['Diff_Price'], ci = None, line_kws={\"color\":\"r\",\"alpha\":0.9,\"lw\":3})\n",
    "\n",
    "plt.xlabel('Log(Planning Area Population)') \n",
    "plt.ylabel('Prediction Error') \n",
    "res = smf.ols(data = dg, formula = 'Diff_Price ~ np.log(Planning_area_population)').fit()\n",
    "print(res.params)\n",
    "print(res.conf_int())\n",
    "\n",
    "abs(res.params/res.bse)"
   ]
  },
  {
   "cell_type": "code",
   "execution_count": 24,
   "metadata": {},
   "outputs": [
    {
     "name": "stdout",
     "output_type": "stream",
     "text": [
      "Intercept                     0.223978\n",
      "np.log(Planning_area_size)   -0.006081\n",
      "dtype: float64\n",
      "                                   0         1\n",
      "Intercept                   0.158960  0.288997\n",
      "np.log(Planning_area_size) -0.016232  0.004070\n"
     ]
    },
    {
     "data": {
      "text/plain": [
       "Intercept                     6.951978\n",
       "np.log(Planning_area_size)    1.208920\n",
       "dtype: float64"
      ]
     },
     "execution_count": 24,
     "metadata": {},
     "output_type": "execute_result"
    },
    {
     "data": {
      "image/png": "[encoded data removed]",
      "text/plain": [
       "<Figure size 432x288 with 1 Axes>"
      ]
     },
     "metadata": {
      "needs_background": "light"
     },
     "output_type": "display_data"
    }
   ],
   "source": [
    "dg = df_combined.groupby('Planning_area').agg({'Diff_Price': ['median'], 'Planning_area_size':['count']}).reset_index()\n",
    "\n",
    "sns.regplot(x=np.log(dg['Planning_area_size']),y=dg['Diff_Price'], ci = None, line_kws={\"color\":\"r\",\"alpha\":0.9,\"lw\":3})\n",
    "\n",
    "plt.xlabel('Log(Planning Area Size)') \n",
    "plt.ylabel('Prediction Error') \n",
    "res = smf.ols(data = dg, formula = 'Diff_Price ~ np.log(Planning_area_size)').fit()\n",
    "print(res.params)\n",
    "print(res.conf_int())\n",
    "abs(res.params/res.bse)"
   ]
  },
  {
   "cell_type": "markdown",
   "metadata": {},
   "source": [
    "## Zillow case study"
   ]
  },
  {
   "cell_type": "code",
   "execution_count": 25,
   "metadata": {},
   "outputs": [
    {
     "data": {
      "text/html": [
       "<div>\n",
       "<style scoped>\n",
       "    .dataframe tbody tr th:only-of-type {\n",
       "        vertical-align: middle;\n",
       "    }\n",
       "\n",
       "    .dataframe tbody tr th {\n",
       "        vertical-align: top;\n",
       "    }\n",
       "\n",
       "    .dataframe thead tr th {\n",
       "        text-align: left;\n",
       "    }\n",
       "</style>\n",
       "<table border=\"1\" class=\"dataframe\">\n",
       "  <thead>\n",
       "    <tr>\n",
       "      <th></th>\n",
       "      <th>Quarter</th>\n",
       "      <th>Diff_Price</th>\n",
       "    </tr>\n",
       "    <tr>\n",
       "      <th></th>\n",
       "      <th></th>\n",
       "      <th>median</th>\n",
       "    </tr>\n",
       "  </thead>\n",
       "  <tbody>\n",
       "    <tr>\n",
       "      <th>1</th>\n",
       "      <td>1995Q1</td>\n",
       "      <td>0.195326</td>\n",
       "    </tr>\n",
       "    <tr>\n",
       "      <th>2</th>\n",
       "      <td>1995Q2</td>\n",
       "      <td>0.257323</td>\n",
       "    </tr>\n",
       "    <tr>\n",
       "      <th>3</th>\n",
       "      <td>1995Q3</td>\n",
       "      <td>0.225028</td>\n",
       "    </tr>\n",
       "    <tr>\n",
       "      <th>4</th>\n",
       "      <td>1995Q4</td>\n",
       "      <td>0.208265</td>\n",
       "    </tr>\n",
       "    <tr>\n",
       "      <th>5</th>\n",
       "      <td>1996Q1</td>\n",
       "      <td>0.213667</td>\n",
       "    </tr>\n",
       "    <tr>\n",
       "      <th>...</th>\n",
       "      <td>...</td>\n",
       "      <td>...</td>\n",
       "    </tr>\n",
       "    <tr>\n",
       "      <th>103</th>\n",
       "      <td>2020Q4</td>\n",
       "      <td>0.148315</td>\n",
       "    </tr>\n",
       "    <tr>\n",
       "      <th>104</th>\n",
       "      <td>2021Q1</td>\n",
       "      <td>0.167822</td>\n",
       "    </tr>\n",
       "    <tr>\n",
       "      <th>105</th>\n",
       "      <td>2021Q2</td>\n",
       "      <td>0.168129</td>\n",
       "    </tr>\n",
       "    <tr>\n",
       "      <th>106</th>\n",
       "      <td>2021Q3</td>\n",
       "      <td>0.159021</td>\n",
       "    </tr>\n",
       "    <tr>\n",
       "      <th>107</th>\n",
       "      <td>2021Q4</td>\n",
       "      <td>0.171049</td>\n",
       "    </tr>\n",
       "  </tbody>\n",
       "</table>\n",
       "<p>107 rows × 2 columns</p>\n",
       "</div>"
      ],
      "text/plain": [
       "    Quarter Diff_Price\n",
       "                median\n",
       "1    1995Q1   0.195326\n",
       "2    1995Q2   0.257323\n",
       "3    1995Q3   0.225028\n",
       "4    1995Q4   0.208265\n",
       "5    1996Q1   0.213667\n",
       "..      ...        ...\n",
       "103  2020Q4   0.148315\n",
       "104  2021Q1   0.167822\n",
       "105  2021Q2   0.168129\n",
       "106  2021Q3   0.159021\n",
       "107  2021Q4   0.171049\n",
       "\n",
       "[107 rows x 2 columns]"
      ]
     },
     "execution_count": 25,
     "metadata": {},
     "output_type": "execute_result"
    }
   ],
   "source": [
    "dz = df_multi_fac.groupby('Quarter').agg({'Diff_Price': ['median']}).reset_index()\n",
    "dz = dz.drop(dz. index[0])\n",
    "dz\n",
    "\n"
   ]
  }
 ],
 "metadata": {
  "kernelspec": {
   "display_name": "Python 3",
   "language": "python",
   "name": "python3"
  },
  "language_info": {
   "codemirror_mode": {
    "name": "ipython",
    "version": 3
   },
   "file_extension": ".py",
   "mimetype": "text/x-python",
   "name": "python",
   "nbconvert_exporter": "python",
   "pygments_lexer": "ipython3",
   "version": "3.8.5"
  }
 },
 "nbformat": 4,
 "nbformat_minor": 4
}
